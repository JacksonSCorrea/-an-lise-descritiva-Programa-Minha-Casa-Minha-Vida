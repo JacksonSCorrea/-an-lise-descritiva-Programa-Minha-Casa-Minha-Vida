{
  "nbformat": 4,
  "nbformat_minor": 0,
  "metadata": {
    "colab": {
      "provenance": [],
      "collapsed_sections": [
        "YO0m0ThWjUZ9",
        "6-w2HcUNkV-8"
      ]
    },
    "kernelspec": {
      "name": "python3",
      "display_name": "Python 3"
    },
    "language_info": {
      "name": "python"
    }
  },
  "cells": [
    {
      "cell_type": "markdown",
      "source": [
        "#1) Introdução"
      ],
      "metadata": {
        "id": "YO0m0ThWjUZ9"
      }
    },
    {
      "cell_type": "markdown",
      "source": [
        "Descrição: Este projeto visa fazer uma análise descritiva de dados de contratação do programa Minha Casa Minha Vida e Casa verde e Amarela.\n",
        "São exploradas informações como:\n",
        "- Estados com maiores contratações\n",
        "- Empresas com maiores contratações, em âmbito nacional e por estado\n",
        "- Tipologias de unidade habitacionais mais contratadas\n",
        "- Entidades financeiras com maior envolvimento nas contratações\n",
        "\n",
        "\n",
        "Ao final, é gerado um mapa de intensidade interativo visando facilitar a visualização das regiões do Brasil e sua intensidade de contratações.\n",
        "\n",
        "\n",
        "Fonte dos dados (dados + dicionário dos dados): https://dados.gov.br/dados/conjuntos-dados/dados-de-programas-habitacionais---sistema-de-habitao---sishab"
      ],
      "metadata": {
        "id": "DVJBPpHBLWfe"
      }
    },
    {
      "cell_type": "markdown",
      "source": [
        "#2) Tratamento dos dados"
      ],
      "metadata": {
        "id": "6-w2HcUNkV-8"
      }
    },
    {
      "cell_type": "code",
      "source": [
        "!pip install geopy"
      ],
      "metadata": {
        "id": "ke3Nmooe4GMw",
        "colab": {
          "base_uri": "https://localhost:8080/"
        },
        "outputId": "41ca1232-ab09-4a7d-f44e-dfed85873efe"
      },
      "execution_count": 1,
      "outputs": [
        {
          "output_type": "stream",
          "name": "stdout",
          "text": [
            "Looking in indexes: https://pypi.org/simple, https://us-python.pkg.dev/colab-wheels/public/simple/\n",
            "Requirement already satisfied: geopy in /usr/local/lib/python3.9/dist-packages (2.3.0)\n",
            "Requirement already satisfied: geographiclib<3,>=1.52 in /usr/local/lib/python3.9/dist-packages (from geopy) (2.0)\n"
          ]
        }
      ]
    },
    {
      "cell_type": "code",
      "execution_count": 64,
      "metadata": {
        "id": "xUSnzpWVkvyH"
      },
      "outputs": [],
      "source": [
        "# Importando as bibliotecas\n",
        "\n",
        "import pandas as pd\n",
        "import numpy as np\n",
        "import plotly.express as px\n",
        "import plotly.graph_objects as go\n",
        "\n",
        "# from pycep_correios import get_address_from_cep, WebService\n",
        "from geopy.geocoders import Nominatim\n",
        "\n",
        "%matplotlib inline"
      ]
    },
    {
      "cell_type": "code",
      "source": [
        "# Ocultando os avisos de output do Colab\n",
        "import warnings\n",
        "warnings.filterwarnings('ignore')"
      ],
      "metadata": {
        "id": "FMUhbnYytyqQ"
      },
      "execution_count": 3,
      "outputs": []
    },
    {
      "cell_type": "code",
      "source": [
        "# Lendo o dataset\n",
        "\n",
        "data=pd.read_csv('/content/drive/MyDrive/Colab Notebooks/Projetos pessoais/02. Análise exploratória de datasets/Programa Casa verde e Amarela/_contratacoes_pcmv_pcva.csv',encoding='latin-1',sep='|')"
      ],
      "metadata": {
        "id": "daoZUEIzlA3l"
      },
      "execution_count": 4,
      "outputs": []
    },
    {
      "cell_type": "code",
      "source": [
        "# Criando backup do dataset / criando o dataframe\n",
        "\n",
        "df=data.copy()"
      ],
      "metadata": {
        "id": "gsSJTwf0lpPZ"
      },
      "execution_count": 5,
      "outputs": []
    },
    {
      "cell_type": "code",
      "source": [
        "#Pré visualização do dataset\n",
        "\n",
        "df.head()"
      ],
      "metadata": {
        "id": "KKxeNCJ_lmFa"
      },
      "execution_count": null,
      "outputs": []
    },
    {
      "cell_type": "code",
      "source": [
        "#Visualizando informações do dataframe\n",
        "\n",
        "df.info()"
      ],
      "metadata": {
        "id": "wmXHmFrRlmKA"
      },
      "execution_count": null,
      "outputs": []
    },
    {
      "cell_type": "code",
      "source": [
        "#Convertendo alguns valores em números\n",
        "\n",
        "df[['vlr_operacao','vlr_contrapartida','vlr_liberado']]=df[['vlr_operacao','vlr_contrapartida','vlr_liberado']].replace(',','.',regex=True).astype(float)"
      ],
      "metadata": {
        "id": "cV5ZCOJVlTZ6"
      },
      "execution_count": 9,
      "outputs": []
    },
    {
      "cell_type": "code",
      "source": [
        "# Visualização de dados missing no dataframe\n",
        "\n",
        "df.isnull().sum()"
      ],
      "metadata": {
        "id": "abYToz3F7jeF"
      },
      "execution_count": null,
      "outputs": []
    },
    {
      "cell_type": "code",
      "source": [
        "# Visualização de dados únicos no dataframe\n",
        "\n",
        "df.nunique()"
      ],
      "metadata": {
        "id": "2S2y5plh2NI2"
      },
      "execution_count": null,
      "outputs": []
    },
    {
      "cell_type": "code",
      "source": [
        "# Excluindo algumas colunas que não serão utilizadas\n",
        "\n",
        "df=df.drop(['dte_assinatura_contrato','txt_nome_do_empreendimento','txt_apf_cod_empreendimento','txt_cnpj_proponente','txt_endereco','txt_cep'],axis=1)"
      ],
      "metadata": {
        "id": "ZrCpoD9y1cHF"
      },
      "execution_count": 12,
      "outputs": []
    },
    {
      "cell_type": "code",
      "source": [
        "# Ajustando a coluna 'num_ano_assinatura_contrato'\n",
        "\n",
        "df['num_ano_assinatura_contrato']=df['num_ano_assinatura_contrato'].replace(',00','',regex=True).astype(int)"
      ],
      "metadata": {
        "id": "c1bdR30CMDta"
      },
      "execution_count": 13,
      "outputs": []
    },
    {
      "cell_type": "code",
      "source": [
        "# Convertendo os valrres da coluna 'prc_obra' para numéricos\n",
        "df['prc_obra']=df['prc_obra'].replace(',','.',regex=True).astype(float)"
      ],
      "metadata": {
        "id": "6HuxMioUTllz"
      },
      "execution_count": 14,
      "outputs": []
    },
    {
      "cell_type": "code",
      "source": [
        "# Avaliando os valores únicos das colunas txt_origem_contrato, txt_programa, txt_faixa_grupo_renda\n",
        "\n",
        "for i in df[['txt_origem_contrato', 'txt_programa', 'txt_faixa_grupo_renda']]:\n",
        "  print(list(df[i].unique()))"
      ],
      "metadata": {
        "id": "BPyM1H7Q2kLU"
      },
      "execution_count": null,
      "outputs": []
    },
    {
      "cell_type": "code",
      "source": [
        "# Analisando as entradas da coluna \n",
        "# Esta coluna será excluída, pois já existe uma coluna informando qual o programa de financiamento\n",
        "\n",
        "df['txt_faixa_grupo_renda'].unique()\n",
        "df=df.drop('txt_faixa_grupo_renda',axis=1)"
      ],
      "metadata": {
        "id": "2IKWoewlNzHC"
      },
      "execution_count": 16,
      "outputs": []
    },
    {
      "cell_type": "code",
      "source": [
        "# Quantidade de uniades entregues pelo Programa Minha Casa Minha Vida ( coma condição de opercentual de entrega ser 100%)\n",
        "df.loc[(df['txt_programa']=='PMCMV')&(df['txt_situacao_obra']=='Obras Entregues') & (df['prc_obra']==100) ,'qtd_uh_entregues'].sum()"
      ],
      "metadata": {
        "id": "WZyyrJHNPSjJ"
      },
      "execution_count": null,
      "outputs": []
    },
    {
      "cell_type": "markdown",
      "source": [
        "#3) Análise descritva"
      ],
      "metadata": {
        "id": "pAGc1OYYLOeJ"
      }
    },
    {
      "cell_type": "code",
      "source": [
        "# Agrupando as informações por estado e mostrando pelo total de unidades contratadas e entregues\n",
        "#Criando também uma coluna para mostrar o percentual de unidades entregues em relação às contratadas\n",
        "\n",
        "df_uh=df[['txt_uf','qtd_uh_contratadas','qtd_uh_entregues']].groupby('txt_uf').sum().sort_values(by=['qtd_uh_contratadas'],ascending=False)\n",
        "df_uh['Percentual']=round(df_uh['qtd_uh_entregues']/df_uh['qtd_uh_contratadas']*100,2)\n",
        "df_uh\n",
        "\n",
        "\n",
        "# Exibindo um gráfico\n",
        "# df_uh=df_uh.sort_values(by=['qtd_uh_contratadas'],ascending=True)\n",
        "# fig = px.bar(df_uh, x='qtd_uh_contratadas', y=df_uh.index.values ,orientation='h')\n",
        "# fig.update_layout(xaxis_title=\"UH contratadas\")\n",
        "# fig.update_layout(title={'text':'Estados com mais contratações Minha Casa Minha Vida / Casa Verde e Amarela entre 2007 a 2022','x':0.5,'xanchor':'center','font':{'family':'Century Gothic','size':24}})\n",
        "# fig.show()"
      ],
      "metadata": {
        "colab": {
          "base_uri": "https://localhost:8080/",
          "height": 927
        },
        "id": "oke_lIbmVUOV",
        "outputId": "030dba26-40a3-4fda-a3d1-e47206a06046"
      },
      "execution_count": 107,
      "outputs": [
        {
          "output_type": "execute_result",
          "data": {
            "text/plain": [
              "        qtd_uh_contratadas  qtd_uh_entregues  Percentual\n",
              "txt_uf                                                  \n",
              "SP                 2416585           1690177       69.94\n",
              "MG                 1058708            833257       78.71\n",
              "PR                  742094            598675       80.67\n",
              "RS                  675187            515759       76.39\n",
              "GO                  581547            480125       82.56\n",
              "RJ                  563395            381333       67.68\n",
              "BA                  560381            416649       74.35\n",
              "SC                  387852            317376       81.83\n",
              "PE                  345490            246588       71.37\n",
              "MA                  295093            206871       70.10\n",
              "CE                  255988            211729       82.71\n",
              "PA                  217649            160110       73.56\n",
              "AL                  216807            160945       74.23\n",
              "PB                  207370            182174       87.85\n",
              "MT                  192644            141040       73.21\n",
              "RN                  175996            154938       88.03\n",
              "MS                  167116            139144       83.26\n",
              "PI                  144067            116587       80.93\n",
              "SE                  142536            103667       72.73\n",
              "ES                  126720             86715       68.43\n",
              "DF                  104752             70625       67.42\n",
              "AM                   86382             48864       56.57\n",
              "RO                   64089             56144       87.60\n",
              "TO                   53565             42481       79.31\n",
              "RR                   16999             14870       87.48\n",
              "AP                   15798             11693       74.02\n",
              "AC                   13010             10361       79.64"
            ],
            "text/html": [
              "\n",
              "  <div id=\"df-e14f2eb9-3eab-45cd-855a-1f87e43fe644\">\n",
              "    <div class=\"colab-df-container\">\n",
              "      <div>\n",
              "<style scoped>\n",
              "    .dataframe tbody tr th:only-of-type {\n",
              "        vertical-align: middle;\n",
              "    }\n",
              "\n",
              "    .dataframe tbody tr th {\n",
              "        vertical-align: top;\n",
              "    }\n",
              "\n",
              "    .dataframe thead th {\n",
              "        text-align: right;\n",
              "    }\n",
              "</style>\n",
              "<table border=\"1\" class=\"dataframe\">\n",
              "  <thead>\n",
              "    <tr style=\"text-align: right;\">\n",
              "      <th></th>\n",
              "      <th>qtd_uh_contratadas</th>\n",
              "      <th>qtd_uh_entregues</th>\n",
              "      <th>Percentual</th>\n",
              "    </tr>\n",
              "    <tr>\n",
              "      <th>txt_uf</th>\n",
              "      <th></th>\n",
              "      <th></th>\n",
              "      <th></th>\n",
              "    </tr>\n",
              "  </thead>\n",
              "  <tbody>\n",
              "    <tr>\n",
              "      <th>SP</th>\n",
              "      <td>2416585</td>\n",
              "      <td>1690177</td>\n",
              "      <td>69.94</td>\n",
              "    </tr>\n",
              "    <tr>\n",
              "      <th>MG</th>\n",
              "      <td>1058708</td>\n",
              "      <td>833257</td>\n",
              "      <td>78.71</td>\n",
              "    </tr>\n",
              "    <tr>\n",
              "      <th>PR</th>\n",
              "      <td>742094</td>\n",
              "      <td>598675</td>\n",
              "      <td>80.67</td>\n",
              "    </tr>\n",
              "    <tr>\n",
              "      <th>RS</th>\n",
              "      <td>675187</td>\n",
              "      <td>515759</td>\n",
              "      <td>76.39</td>\n",
              "    </tr>\n",
              "    <tr>\n",
              "      <th>GO</th>\n",
              "      <td>581547</td>\n",
              "      <td>480125</td>\n",
              "      <td>82.56</td>\n",
              "    </tr>\n",
              "    <tr>\n",
              "      <th>RJ</th>\n",
              "      <td>563395</td>\n",
              "      <td>381333</td>\n",
              "      <td>67.68</td>\n",
              "    </tr>\n",
              "    <tr>\n",
              "      <th>BA</th>\n",
              "      <td>560381</td>\n",
              "      <td>416649</td>\n",
              "      <td>74.35</td>\n",
              "    </tr>\n",
              "    <tr>\n",
              "      <th>SC</th>\n",
              "      <td>387852</td>\n",
              "      <td>317376</td>\n",
              "      <td>81.83</td>\n",
              "    </tr>\n",
              "    <tr>\n",
              "      <th>PE</th>\n",
              "      <td>345490</td>\n",
              "      <td>246588</td>\n",
              "      <td>71.37</td>\n",
              "    </tr>\n",
              "    <tr>\n",
              "      <th>MA</th>\n",
              "      <td>295093</td>\n",
              "      <td>206871</td>\n",
              "      <td>70.10</td>\n",
              "    </tr>\n",
              "    <tr>\n",
              "      <th>CE</th>\n",
              "      <td>255988</td>\n",
              "      <td>211729</td>\n",
              "      <td>82.71</td>\n",
              "    </tr>\n",
              "    <tr>\n",
              "      <th>PA</th>\n",
              "      <td>217649</td>\n",
              "      <td>160110</td>\n",
              "      <td>73.56</td>\n",
              "    </tr>\n",
              "    <tr>\n",
              "      <th>AL</th>\n",
              "      <td>216807</td>\n",
              "      <td>160945</td>\n",
              "      <td>74.23</td>\n",
              "    </tr>\n",
              "    <tr>\n",
              "      <th>PB</th>\n",
              "      <td>207370</td>\n",
              "      <td>182174</td>\n",
              "      <td>87.85</td>\n",
              "    </tr>\n",
              "    <tr>\n",
              "      <th>MT</th>\n",
              "      <td>192644</td>\n",
              "      <td>141040</td>\n",
              "      <td>73.21</td>\n",
              "    </tr>\n",
              "    <tr>\n",
              "      <th>RN</th>\n",
              "      <td>175996</td>\n",
              "      <td>154938</td>\n",
              "      <td>88.03</td>\n",
              "    </tr>\n",
              "    <tr>\n",
              "      <th>MS</th>\n",
              "      <td>167116</td>\n",
              "      <td>139144</td>\n",
              "      <td>83.26</td>\n",
              "    </tr>\n",
              "    <tr>\n",
              "      <th>PI</th>\n",
              "      <td>144067</td>\n",
              "      <td>116587</td>\n",
              "      <td>80.93</td>\n",
              "    </tr>\n",
              "    <tr>\n",
              "      <th>SE</th>\n",
              "      <td>142536</td>\n",
              "      <td>103667</td>\n",
              "      <td>72.73</td>\n",
              "    </tr>\n",
              "    <tr>\n",
              "      <th>ES</th>\n",
              "      <td>126720</td>\n",
              "      <td>86715</td>\n",
              "      <td>68.43</td>\n",
              "    </tr>\n",
              "    <tr>\n",
              "      <th>DF</th>\n",
              "      <td>104752</td>\n",
              "      <td>70625</td>\n",
              "      <td>67.42</td>\n",
              "    </tr>\n",
              "    <tr>\n",
              "      <th>AM</th>\n",
              "      <td>86382</td>\n",
              "      <td>48864</td>\n",
              "      <td>56.57</td>\n",
              "    </tr>\n",
              "    <tr>\n",
              "      <th>RO</th>\n",
              "      <td>64089</td>\n",
              "      <td>56144</td>\n",
              "      <td>87.60</td>\n",
              "    </tr>\n",
              "    <tr>\n",
              "      <th>TO</th>\n",
              "      <td>53565</td>\n",
              "      <td>42481</td>\n",
              "      <td>79.31</td>\n",
              "    </tr>\n",
              "    <tr>\n",
              "      <th>RR</th>\n",
              "      <td>16999</td>\n",
              "      <td>14870</td>\n",
              "      <td>87.48</td>\n",
              "    </tr>\n",
              "    <tr>\n",
              "      <th>AP</th>\n",
              "      <td>15798</td>\n",
              "      <td>11693</td>\n",
              "      <td>74.02</td>\n",
              "    </tr>\n",
              "    <tr>\n",
              "      <th>AC</th>\n",
              "      <td>13010</td>\n",
              "      <td>10361</td>\n",
              "      <td>79.64</td>\n",
              "    </tr>\n",
              "  </tbody>\n",
              "</table>\n",
              "</div>\n",
              "      <button class=\"colab-df-convert\" onclick=\"convertToInteractive('df-e14f2eb9-3eab-45cd-855a-1f87e43fe644')\"\n",
              "              title=\"Convert this dataframe to an interactive table.\"\n",
              "              style=\"display:none;\">\n",
              "        \n",
              "  <svg xmlns=\"http://www.w3.org/2000/svg\" height=\"24px\"viewBox=\"0 0 24 24\"\n",
              "       width=\"24px\">\n",
              "    <path d=\"M0 0h24v24H0V0z\" fill=\"none\"/>\n",
              "    <path d=\"M18.56 5.44l.94 2.06.94-2.06 2.06-.94-2.06-.94-.94-2.06-.94 2.06-2.06.94zm-11 1L8.5 8.5l.94-2.06 2.06-.94-2.06-.94L8.5 2.5l-.94 2.06-2.06.94zm10 10l.94 2.06.94-2.06 2.06-.94-2.06-.94-.94-2.06-.94 2.06-2.06.94z\"/><path d=\"M17.41 7.96l-1.37-1.37c-.4-.4-.92-.59-1.43-.59-.52 0-1.04.2-1.43.59L10.3 9.45l-7.72 7.72c-.78.78-.78 2.05 0 2.83L4 21.41c.39.39.9.59 1.41.59.51 0 1.02-.2 1.41-.59l7.78-7.78 2.81-2.81c.8-.78.8-2.07 0-2.86zM5.41 20L4 18.59l7.72-7.72 1.47 1.35L5.41 20z\"/>\n",
              "  </svg>\n",
              "      </button>\n",
              "      \n",
              "  <style>\n",
              "    .colab-df-container {\n",
              "      display:flex;\n",
              "      flex-wrap:wrap;\n",
              "      gap: 12px;\n",
              "    }\n",
              "\n",
              "    .colab-df-convert {\n",
              "      background-color: #E8F0FE;\n",
              "      border: none;\n",
              "      border-radius: 50%;\n",
              "      cursor: pointer;\n",
              "      display: none;\n",
              "      fill: #1967D2;\n",
              "      height: 32px;\n",
              "      padding: 0 0 0 0;\n",
              "      width: 32px;\n",
              "    }\n",
              "\n",
              "    .colab-df-convert:hover {\n",
              "      background-color: #E2EBFA;\n",
              "      box-shadow: 0px 1px 2px rgba(60, 64, 67, 0.3), 0px 1px 3px 1px rgba(60, 64, 67, 0.15);\n",
              "      fill: #174EA6;\n",
              "    }\n",
              "\n",
              "    [theme=dark] .colab-df-convert {\n",
              "      background-color: #3B4455;\n",
              "      fill: #D2E3FC;\n",
              "    }\n",
              "\n",
              "    [theme=dark] .colab-df-convert:hover {\n",
              "      background-color: #434B5C;\n",
              "      box-shadow: 0px 1px 3px 1px rgba(0, 0, 0, 0.15);\n",
              "      filter: drop-shadow(0px 1px 2px rgba(0, 0, 0, 0.3));\n",
              "      fill: #FFFFFF;\n",
              "    }\n",
              "  </style>\n",
              "\n",
              "      <script>\n",
              "        const buttonEl =\n",
              "          document.querySelector('#df-e14f2eb9-3eab-45cd-855a-1f87e43fe644 button.colab-df-convert');\n",
              "        buttonEl.style.display =\n",
              "          google.colab.kernel.accessAllowed ? 'block' : 'none';\n",
              "\n",
              "        async function convertToInteractive(key) {\n",
              "          const element = document.querySelector('#df-e14f2eb9-3eab-45cd-855a-1f87e43fe644');\n",
              "          const dataTable =\n",
              "            await google.colab.kernel.invokeFunction('convertToInteractive',\n",
              "                                                     [key], {});\n",
              "          if (!dataTable) return;\n",
              "\n",
              "          const docLinkHtml = 'Like what you see? Visit the ' +\n",
              "            '<a target=\"_blank\" href=https://colab.research.google.com/notebooks/data_table.ipynb>data table notebook</a>'\n",
              "            + ' to learn more about interactive tables.';\n",
              "          element.innerHTML = '';\n",
              "          dataTable['output_type'] = 'display_data';\n",
              "          await google.colab.output.renderOutput(dataTable, element);\n",
              "          const docLink = document.createElement('div');\n",
              "          docLink.innerHTML = docLinkHtml;\n",
              "          element.appendChild(docLink);\n",
              "        }\n",
              "      </script>\n",
              "    </div>\n",
              "  </div>\n",
              "  "
            ]
          },
          "metadata": {},
          "execution_count": 107
        }
      ]
    },
    {
      "cell_type": "code",
      "source": [
        "# Listando as empresas que mais contratam Unidades Habitacionais em âmbito nacional\n",
        "df_empresas=df[['txt_razao_social_proponente','txt_uf','qtd_uh_contratadas']].groupby('txt_razao_social_proponente').sum().sort_values(by=['qtd_uh_contratadas'],ascending=False)\n",
        "\n",
        "#Gerando um relatório em html\n",
        "rel_empresas=df_empresas.head(20).to_html() #criando o html\n",
        "with open('Relatório de empresas.html', 'w') as f:\n",
        "    f.write(rel_empresas)\n",
        "\n",
        "df_empresas"
      ],
      "metadata": {
        "id": "qAWkpkaqZRIK",
        "colab": {
          "base_uri": "https://localhost:8080/",
          "height": 455
        },
        "outputId": "1319bd50-1abb-43df-b32b-7ae60b5d2e3a"
      },
      "execution_count": 108,
      "outputs": [
        {
          "output_type": "execute_result",
          "data": {
            "text/plain": [
              "                                                    qtd_uh_contratadas\n",
              "txt_razao_social_proponente                                           \n",
              "MRV ENGENHARIA E PARTICIPACOES S/A                              370040\n",
              "DIRECIONAL ENGENHARIA S.A.                                      112899\n",
              "CONSTRUTORA TENDA S/A                                           110365\n",
              "CURY CONSTRUTORA E INCORPORADORA S.A.                            69135\n",
              "PACAEMBU EMPREENDIMENTOS E CONSTRUCOES LTDA                      53355\n",
              "...                                                                ...\n",
              "MUNICIPIO DE CAPELA DE SANTANA - RS                                  4\n",
              "SOCIEDADE DE DESENVOLVIMENTO HUMANO SOCIAL E CU...                   4\n",
              "ASSOCIACAO DOS PRODUTORES FAMILIARES DO CORREGO...                   4\n",
              "COOPERATIVA AGRINDUSTRIAL METROPOLITANA DE PERN...                   2\n",
              "COOPERATIVA HABITACIONAL REGIONAL VINTE DE MARC...                   2\n",
              "\n",
              "[4879 rows x 1 columns]"
            ],
            "text/html": [
              "\n",
              "  <div id=\"df-3263696f-6e18-48c9-8a6f-e8f03e317b61\">\n",
              "    <div class=\"colab-df-container\">\n",
              "      <div>\n",
              "<style scoped>\n",
              "    .dataframe tbody tr th:only-of-type {\n",
              "        vertical-align: middle;\n",
              "    }\n",
              "\n",
              "    .dataframe tbody tr th {\n",
              "        vertical-align: top;\n",
              "    }\n",
              "\n",
              "    .dataframe thead th {\n",
              "        text-align: right;\n",
              "    }\n",
              "</style>\n",
              "<table border=\"1\" class=\"dataframe\">\n",
              "  <thead>\n",
              "    <tr style=\"text-align: right;\">\n",
              "      <th></th>\n",
              "      <th>qtd_uh_contratadas</th>\n",
              "    </tr>\n",
              "    <tr>\n",
              "      <th>txt_razao_social_proponente</th>\n",
              "      <th></th>\n",
              "    </tr>\n",
              "  </thead>\n",
              "  <tbody>\n",
              "    <tr>\n",
              "      <th>MRV ENGENHARIA E PARTICIPACOES S/A</th>\n",
              "      <td>370040</td>\n",
              "    </tr>\n",
              "    <tr>\n",
              "      <th>DIRECIONAL ENGENHARIA S.A.</th>\n",
              "      <td>112899</td>\n",
              "    </tr>\n",
              "    <tr>\n",
              "      <th>CONSTRUTORA TENDA S/A</th>\n",
              "      <td>110365</td>\n",
              "    </tr>\n",
              "    <tr>\n",
              "      <th>CURY CONSTRUTORA E INCORPORADORA S.A.</th>\n",
              "      <td>69135</td>\n",
              "    </tr>\n",
              "    <tr>\n",
              "      <th>PACAEMBU EMPREENDIMENTOS E CONSTRUCOES LTDA</th>\n",
              "      <td>53355</td>\n",
              "    </tr>\n",
              "    <tr>\n",
              "      <th>...</th>\n",
              "      <td>...</td>\n",
              "    </tr>\n",
              "    <tr>\n",
              "      <th>MUNICIPIO DE CAPELA DE SANTANA - RS</th>\n",
              "      <td>4</td>\n",
              "    </tr>\n",
              "    <tr>\n",
              "      <th>SOCIEDADE DE DESENVOLVIMENTO HUMANO SOCIAL E CULTURAL</th>\n",
              "      <td>4</td>\n",
              "    </tr>\n",
              "    <tr>\n",
              "      <th>ASSOCIACAO DOS PRODUTORES FAMILIARES DO CORREGO DO LAGE E RE</th>\n",
              "      <td>4</td>\n",
              "    </tr>\n",
              "    <tr>\n",
              "      <th>COOPERATIVA AGRINDUSTRIAL METROPOLITANA DE PERNAMBUCO</th>\n",
              "      <td>2</td>\n",
              "    </tr>\n",
              "    <tr>\n",
              "      <th>COOPERATIVA HABITACIONAL REGIONAL VINTE DE MARCO LTDA</th>\n",
              "      <td>2</td>\n",
              "    </tr>\n",
              "  </tbody>\n",
              "</table>\n",
              "<p>4879 rows × 1 columns</p>\n",
              "</div>\n",
              "      <button class=\"colab-df-convert\" onclick=\"convertToInteractive('df-3263696f-6e18-48c9-8a6f-e8f03e317b61')\"\n",
              "              title=\"Convert this dataframe to an interactive table.\"\n",
              "              style=\"display:none;\">\n",
              "        \n",
              "  <svg xmlns=\"http://www.w3.org/2000/svg\" height=\"24px\"viewBox=\"0 0 24 24\"\n",
              "       width=\"24px\">\n",
              "    <path d=\"M0 0h24v24H0V0z\" fill=\"none\"/>\n",
              "    <path d=\"M18.56 5.44l.94 2.06.94-2.06 2.06-.94-2.06-.94-.94-2.06-.94 2.06-2.06.94zm-11 1L8.5 8.5l.94-2.06 2.06-.94-2.06-.94L8.5 2.5l-.94 2.06-2.06.94zm10 10l.94 2.06.94-2.06 2.06-.94-2.06-.94-.94-2.06-.94 2.06-2.06.94z\"/><path d=\"M17.41 7.96l-1.37-1.37c-.4-.4-.92-.59-1.43-.59-.52 0-1.04.2-1.43.59L10.3 9.45l-7.72 7.72c-.78.78-.78 2.05 0 2.83L4 21.41c.39.39.9.59 1.41.59.51 0 1.02-.2 1.41-.59l7.78-7.78 2.81-2.81c.8-.78.8-2.07 0-2.86zM5.41 20L4 18.59l7.72-7.72 1.47 1.35L5.41 20z\"/>\n",
              "  </svg>\n",
              "      </button>\n",
              "      \n",
              "  <style>\n",
              "    .colab-df-container {\n",
              "      display:flex;\n",
              "      flex-wrap:wrap;\n",
              "      gap: 12px;\n",
              "    }\n",
              "\n",
              "    .colab-df-convert {\n",
              "      background-color: #E8F0FE;\n",
              "      border: none;\n",
              "      border-radius: 50%;\n",
              "      cursor: pointer;\n",
              "      display: none;\n",
              "      fill: #1967D2;\n",
              "      height: 32px;\n",
              "      padding: 0 0 0 0;\n",
              "      width: 32px;\n",
              "    }\n",
              "\n",
              "    .colab-df-convert:hover {\n",
              "      background-color: #E2EBFA;\n",
              "      box-shadow: 0px 1px 2px rgba(60, 64, 67, 0.3), 0px 1px 3px 1px rgba(60, 64, 67, 0.15);\n",
              "      fill: #174EA6;\n",
              "    }\n",
              "\n",
              "    [theme=dark] .colab-df-convert {\n",
              "      background-color: #3B4455;\n",
              "      fill: #D2E3FC;\n",
              "    }\n",
              "\n",
              "    [theme=dark] .colab-df-convert:hover {\n",
              "      background-color: #434B5C;\n",
              "      box-shadow: 0px 1px 3px 1px rgba(0, 0, 0, 0.15);\n",
              "      filter: drop-shadow(0px 1px 2px rgba(0, 0, 0, 0.3));\n",
              "      fill: #FFFFFF;\n",
              "    }\n",
              "  </style>\n",
              "\n",
              "      <script>\n",
              "        const buttonEl =\n",
              "          document.querySelector('#df-3263696f-6e18-48c9-8a6f-e8f03e317b61 button.colab-df-convert');\n",
              "        buttonEl.style.display =\n",
              "          google.colab.kernel.accessAllowed ? 'block' : 'none';\n",
              "\n",
              "        async function convertToInteractive(key) {\n",
              "          const element = document.querySelector('#df-3263696f-6e18-48c9-8a6f-e8f03e317b61');\n",
              "          const dataTable =\n",
              "            await google.colab.kernel.invokeFunction('convertToInteractive',\n",
              "                                                     [key], {});\n",
              "          if (!dataTable) return;\n",
              "\n",
              "          const docLinkHtml = 'Like what you see? Visit the ' +\n",
              "            '<a target=\"_blank\" href=https://colab.research.google.com/notebooks/data_table.ipynb>data table notebook</a>'\n",
              "            + ' to learn more about interactive tables.';\n",
              "          element.innerHTML = '';\n",
              "          dataTable['output_type'] = 'display_data';\n",
              "          await google.colab.output.renderOutput(dataTable, element);\n",
              "          const docLink = document.createElement('div');\n",
              "          docLink.innerHTML = docLinkHtml;\n",
              "          element.appendChild(docLink);\n",
              "        }\n",
              "      </script>\n",
              "    </div>\n",
              "  </div>\n",
              "  "
            ]
          },
          "metadata": {},
          "execution_count": 108
        }
      ]
    },
    {
      "cell_type": "code",
      "source": [
        "#Criando um gráfico para visualização das empresas que mais contratam\n",
        "df_empresas=df_empresas.head(20).sort_values(by=['qtd_uh_contratadas'],ascending=True)\n",
        "fig = px.bar(df_empresas, x='qtd_uh_contratadas', y=df_empresas.index.values ,orientation='h')\n",
        "fig.update_layout(xaxis_title=\"UH contratadas\")\n",
        "fig.update_layout(title={'text':'Empresas com mais contratações Minha Casa Minha Vida / Casa Verde e Amarela entre 2007 e 2022','x':0.5,'xanchor':'center','font':{'family':'Century Gothic','size':24}})\n",
        "\n",
        "fig.show()\n"
      ],
      "metadata": {
        "colab": {
          "base_uri": "https://localhost:8080/",
          "height": 542
        },
        "id": "kv3vhdwBlHjb",
        "outputId": "85c8fc96-0d60-446d-bea9-9a2734fbfba7"
      },
      "execution_count": 109,
      "outputs": [
        {
          "output_type": "display_data",
          "data": {
            "text/html": [
              "<html>\n",
              "<head><meta charset=\"utf-8\" /></head>\n",
              "<body>\n",
              "    <div>            <script src=\"https://cdnjs.cloudflare.com/ajax/libs/mathjax/2.7.5/MathJax.js?config=TeX-AMS-MML_SVG\"></script><script type=\"text/javascript\">if (window.MathJax && window.MathJax.Hub && window.MathJax.Hub.Config) {window.MathJax.Hub.Config({SVG: {font: \"STIX-Web\"}});}</script>                <script type=\"text/javascript\">window.PlotlyConfig = {MathJaxConfig: 'local'};</script>\n",
              "        <script src=\"https://cdn.plot.ly/plotly-2.18.2.min.js\"></script>                <div id=\"6a9ad145-7ed7-4020-9d8e-f66b9b4f6bd0\" class=\"plotly-graph-div\" style=\"height:525px; width:100%;\"></div>            <script type=\"text/javascript\">                                    window.PLOTLYENV=window.PLOTLYENV || {};                                    if (document.getElementById(\"6a9ad145-7ed7-4020-9d8e-f66b9b4f6bd0\")) {                    Plotly.newPlot(                        \"6a9ad145-7ed7-4020-9d8e-f66b9b4f6bd0\",                        [{\"alignmentgroup\":\"True\",\"hovertemplate\":\"qtd_uh_contratadas=%{x}<br>y=%{y}<extra></extra>\",\"legendgroup\":\"\",\"marker\":{\"color\":\"#636efa\",\"pattern\":{\"shape\":\"\"}},\"name\":\"\",\"offsetgroup\":\"\",\"orientation\":\"h\",\"showlegend\":false,\"textposition\":\"auto\",\"x\":[18272,18434,18536,19379,20436,21295,22045,24926,26088,27311,31913,33989,36118,36517,47780,53355,69135,110365,112899,370040],\"xaxis\":\"x\",\"y\":[\"CONSTRUTORA ENCASA LTDA E TECN. LTDA\",\"AMORIM COUTINHO ENGENHARIA E CONSTRUCOES LTDA\",\"RODOBENS NEGOCIOS IMOBILIARIOS S/A\",\"GOLDFARB INCORPORACOES E CONSTRUCOES LTDA\",\"JOSE CELSO GONTIJO ENGENHARIA S/A\",\"DIMENSAO-CONST. E INCORP. LTDA\",\"MRL ENGENHARIA E EMPREENDIMENTOS S/A A\",\"REALIZA CONSTRUTORA LTDA\",\"L MARQUEZZO CONSTRUCOES E EMPREENDIMENTOS LTDA\",\"H.M. ENGENHARIA E CONSTRUCOES LTDA\",\"CANOPUS CONSTRUCOES LTDA\",\"GRAFICO ENGENHARIA LTDA\",\"PRIME INCORPORACOES E CONSTRUCOES S/A\",\"SERTENGE SERVICOS TECNICOS ENG ESPECIALIZADA SA\",\"CONSTRUTORA EMCCAMP - S/A\",\"PACAEMBU EMPREENDIMENTOS E CONSTRUCOES LTDA\",\"CURY CONSTRUTORA E INCORPORADORA S.A.\",\"CONSTRUTORA TENDA S/A\",\"DIRECIONAL ENGENHARIA S.A.\",\"MRV ENGENHARIA E PARTICIPACOES S/A\"],\"yaxis\":\"y\",\"type\":\"bar\"}],                        {\"template\":{\"data\":{\"histogram2dcontour\":[{\"type\":\"histogram2dcontour\",\"colorbar\":{\"outlinewidth\":0,\"ticks\":\"\"},\"colorscale\":[[0.0,\"#0d0887\"],[0.1111111111111111,\"#46039f\"],[0.2222222222222222,\"#7201a8\"],[0.3333333333333333,\"#9c179e\"],[0.4444444444444444,\"#bd3786\"],[0.5555555555555556,\"#d8576b\"],[0.6666666666666666,\"#ed7953\"],[0.7777777777777778,\"#fb9f3a\"],[0.8888888888888888,\"#fdca26\"],[1.0,\"#f0f921\"]]}],\"choropleth\":[{\"type\":\"choropleth\",\"colorbar\":{\"outlinewidth\":0,\"ticks\":\"\"}}],\"histogram2d\":[{\"type\":\"histogram2d\",\"colorbar\":{\"outlinewidth\":0,\"ticks\":\"\"},\"colorscale\":[[0.0,\"#0d0887\"],[0.1111111111111111,\"#46039f\"],[0.2222222222222222,\"#7201a8\"],[0.3333333333333333,\"#9c179e\"],[0.4444444444444444,\"#bd3786\"],[0.5555555555555556,\"#d8576b\"],[0.6666666666666666,\"#ed7953\"],[0.7777777777777778,\"#fb9f3a\"],[0.8888888888888888,\"#fdca26\"],[1.0,\"#f0f921\"]]}],\"heatmap\":[{\"type\":\"heatmap\",\"colorbar\":{\"outlinewidth\":0,\"ticks\":\"\"},\"colorscale\":[[0.0,\"#0d0887\"],[0.1111111111111111,\"#46039f\"],[0.2222222222222222,\"#7201a8\"],[0.3333333333333333,\"#9c179e\"],[0.4444444444444444,\"#bd3786\"],[0.5555555555555556,\"#d8576b\"],[0.6666666666666666,\"#ed7953\"],[0.7777777777777778,\"#fb9f3a\"],[0.8888888888888888,\"#fdca26\"],[1.0,\"#f0f921\"]]}],\"heatmapgl\":[{\"type\":\"heatmapgl\",\"colorbar\":{\"outlinewidth\":0,\"ticks\":\"\"},\"colorscale\":[[0.0,\"#0d0887\"],[0.1111111111111111,\"#46039f\"],[0.2222222222222222,\"#7201a8\"],[0.3333333333333333,\"#9c179e\"],[0.4444444444444444,\"#bd3786\"],[0.5555555555555556,\"#d8576b\"],[0.6666666666666666,\"#ed7953\"],[0.7777777777777778,\"#fb9f3a\"],[0.8888888888888888,\"#fdca26\"],[1.0,\"#f0f921\"]]}],\"contourcarpet\":[{\"type\":\"contourcarpet\",\"colorbar\":{\"outlinewidth\":0,\"ticks\":\"\"}}],\"contour\":[{\"type\":\"contour\",\"colorbar\":{\"outlinewidth\":0,\"ticks\":\"\"},\"colorscale\":[[0.0,\"#0d0887\"],[0.1111111111111111,\"#46039f\"],[0.2222222222222222,\"#7201a8\"],[0.3333333333333333,\"#9c179e\"],[0.4444444444444444,\"#bd3786\"],[0.5555555555555556,\"#d8576b\"],[0.6666666666666666,\"#ed7953\"],[0.7777777777777778,\"#fb9f3a\"],[0.8888888888888888,\"#fdca26\"],[1.0,\"#f0f921\"]]}],\"surface\":[{\"type\":\"surface\",\"colorbar\":{\"outlinewidth\":0,\"ticks\":\"\"},\"colorscale\":[[0.0,\"#0d0887\"],[0.1111111111111111,\"#46039f\"],[0.2222222222222222,\"#7201a8\"],[0.3333333333333333,\"#9c179e\"],[0.4444444444444444,\"#bd3786\"],[0.5555555555555556,\"#d8576b\"],[0.6666666666666666,\"#ed7953\"],[0.7777777777777778,\"#fb9f3a\"],[0.8888888888888888,\"#fdca26\"],[1.0,\"#f0f921\"]]}],\"mesh3d\":[{\"type\":\"mesh3d\",\"colorbar\":{\"outlinewidth\":0,\"ticks\":\"\"}}],\"scatter\":[{\"fillpattern\":{\"fillmode\":\"overlay\",\"size\":10,\"solidity\":0.2},\"type\":\"scatter\"}],\"parcoords\":[{\"type\":\"parcoords\",\"line\":{\"colorbar\":{\"outlinewidth\":0,\"ticks\":\"\"}}}],\"scatterpolargl\":[{\"type\":\"scatterpolargl\",\"marker\":{\"colorbar\":{\"outlinewidth\":0,\"ticks\":\"\"}}}],\"bar\":[{\"error_x\":{\"color\":\"#2a3f5f\"},\"error_y\":{\"color\":\"#2a3f5f\"},\"marker\":{\"line\":{\"color\":\"#E5ECF6\",\"width\":0.5},\"pattern\":{\"fillmode\":\"overlay\",\"size\":10,\"solidity\":0.2}},\"type\":\"bar\"}],\"scattergeo\":[{\"type\":\"scattergeo\",\"marker\":{\"colorbar\":{\"outlinewidth\":0,\"ticks\":\"\"}}}],\"scatterpolar\":[{\"type\":\"scatterpolar\",\"marker\":{\"colorbar\":{\"outlinewidth\":0,\"ticks\":\"\"}}}],\"histogram\":[{\"marker\":{\"pattern\":{\"fillmode\":\"overlay\",\"size\":10,\"solidity\":0.2}},\"type\":\"histogram\"}],\"scattergl\":[{\"type\":\"scattergl\",\"marker\":{\"colorbar\":{\"outlinewidth\":0,\"ticks\":\"\"}}}],\"scatter3d\":[{\"type\":\"scatter3d\",\"line\":{\"colorbar\":{\"outlinewidth\":0,\"ticks\":\"\"}},\"marker\":{\"colorbar\":{\"outlinewidth\":0,\"ticks\":\"\"}}}],\"scattermapbox\":[{\"type\":\"scattermapbox\",\"marker\":{\"colorbar\":{\"outlinewidth\":0,\"ticks\":\"\"}}}],\"scatterternary\":[{\"type\":\"scatterternary\",\"marker\":{\"colorbar\":{\"outlinewidth\":0,\"ticks\":\"\"}}}],\"scattercarpet\":[{\"type\":\"scattercarpet\",\"marker\":{\"colorbar\":{\"outlinewidth\":0,\"ticks\":\"\"}}}],\"carpet\":[{\"aaxis\":{\"endlinecolor\":\"#2a3f5f\",\"gridcolor\":\"white\",\"linecolor\":\"white\",\"minorgridcolor\":\"white\",\"startlinecolor\":\"#2a3f5f\"},\"baxis\":{\"endlinecolor\":\"#2a3f5f\",\"gridcolor\":\"white\",\"linecolor\":\"white\",\"minorgridcolor\":\"white\",\"startlinecolor\":\"#2a3f5f\"},\"type\":\"carpet\"}],\"table\":[{\"cells\":{\"fill\":{\"color\":\"#EBF0F8\"},\"line\":{\"color\":\"white\"}},\"header\":{\"fill\":{\"color\":\"#C8D4E3\"},\"line\":{\"color\":\"white\"}},\"type\":\"table\"}],\"barpolar\":[{\"marker\":{\"line\":{\"color\":\"#E5ECF6\",\"width\":0.5},\"pattern\":{\"fillmode\":\"overlay\",\"size\":10,\"solidity\":0.2}},\"type\":\"barpolar\"}],\"pie\":[{\"automargin\":true,\"type\":\"pie\"}]},\"layout\":{\"autotypenumbers\":\"strict\",\"colorway\":[\"#636efa\",\"#EF553B\",\"#00cc96\",\"#ab63fa\",\"#FFA15A\",\"#19d3f3\",\"#FF6692\",\"#B6E880\",\"#FF97FF\",\"#FECB52\"],\"font\":{\"color\":\"#2a3f5f\"},\"hovermode\":\"closest\",\"hoverlabel\":{\"align\":\"left\"},\"paper_bgcolor\":\"white\",\"plot_bgcolor\":\"#E5ECF6\",\"polar\":{\"bgcolor\":\"#E5ECF6\",\"angularaxis\":{\"gridcolor\":\"white\",\"linecolor\":\"white\",\"ticks\":\"\"},\"radialaxis\":{\"gridcolor\":\"white\",\"linecolor\":\"white\",\"ticks\":\"\"}},\"ternary\":{\"bgcolor\":\"#E5ECF6\",\"aaxis\":{\"gridcolor\":\"white\",\"linecolor\":\"white\",\"ticks\":\"\"},\"baxis\":{\"gridcolor\":\"white\",\"linecolor\":\"white\",\"ticks\":\"\"},\"caxis\":{\"gridcolor\":\"white\",\"linecolor\":\"white\",\"ticks\":\"\"}},\"coloraxis\":{\"colorbar\":{\"outlinewidth\":0,\"ticks\":\"\"}},\"colorscale\":{\"sequential\":[[0.0,\"#0d0887\"],[0.1111111111111111,\"#46039f\"],[0.2222222222222222,\"#7201a8\"],[0.3333333333333333,\"#9c179e\"],[0.4444444444444444,\"#bd3786\"],[0.5555555555555556,\"#d8576b\"],[0.6666666666666666,\"#ed7953\"],[0.7777777777777778,\"#fb9f3a\"],[0.8888888888888888,\"#fdca26\"],[1.0,\"#f0f921\"]],\"sequentialminus\":[[0.0,\"#0d0887\"],[0.1111111111111111,\"#46039f\"],[0.2222222222222222,\"#7201a8\"],[0.3333333333333333,\"#9c179e\"],[0.4444444444444444,\"#bd3786\"],[0.5555555555555556,\"#d8576b\"],[0.6666666666666666,\"#ed7953\"],[0.7777777777777778,\"#fb9f3a\"],[0.8888888888888888,\"#fdca26\"],[1.0,\"#f0f921\"]],\"diverging\":[[0,\"#8e0152\"],[0.1,\"#c51b7d\"],[0.2,\"#de77ae\"],[0.3,\"#f1b6da\"],[0.4,\"#fde0ef\"],[0.5,\"#f7f7f7\"],[0.6,\"#e6f5d0\"],[0.7,\"#b8e186\"],[0.8,\"#7fbc41\"],[0.9,\"#4d9221\"],[1,\"#276419\"]]},\"xaxis\":{\"gridcolor\":\"white\",\"linecolor\":\"white\",\"ticks\":\"\",\"title\":{\"standoff\":15},\"zerolinecolor\":\"white\",\"automargin\":true,\"zerolinewidth\":2},\"yaxis\":{\"gridcolor\":\"white\",\"linecolor\":\"white\",\"ticks\":\"\",\"title\":{\"standoff\":15},\"zerolinecolor\":\"white\",\"automargin\":true,\"zerolinewidth\":2},\"scene\":{\"xaxis\":{\"backgroundcolor\":\"#E5ECF6\",\"gridcolor\":\"white\",\"linecolor\":\"white\",\"showbackground\":true,\"ticks\":\"\",\"zerolinecolor\":\"white\",\"gridwidth\":2},\"yaxis\":{\"backgroundcolor\":\"#E5ECF6\",\"gridcolor\":\"white\",\"linecolor\":\"white\",\"showbackground\":true,\"ticks\":\"\",\"zerolinecolor\":\"white\",\"gridwidth\":2},\"zaxis\":{\"backgroundcolor\":\"#E5ECF6\",\"gridcolor\":\"white\",\"linecolor\":\"white\",\"showbackground\":true,\"ticks\":\"\",\"zerolinecolor\":\"white\",\"gridwidth\":2}},\"shapedefaults\":{\"line\":{\"color\":\"#2a3f5f\"}},\"annotationdefaults\":{\"arrowcolor\":\"#2a3f5f\",\"arrowhead\":0,\"arrowwidth\":1},\"geo\":{\"bgcolor\":\"white\",\"landcolor\":\"#E5ECF6\",\"subunitcolor\":\"white\",\"showland\":true,\"showlakes\":true,\"lakecolor\":\"white\"},\"title\":{\"x\":0.05},\"mapbox\":{\"style\":\"light\"}}},\"xaxis\":{\"anchor\":\"y\",\"domain\":[0.0,1.0],\"title\":{\"text\":\"UH contratadas\"}},\"yaxis\":{\"anchor\":\"x\",\"domain\":[0.0,1.0],\"title\":{\"text\":\"y\"}},\"legend\":{\"tracegroupgap\":0},\"margin\":{\"t\":60},\"barmode\":\"relative\",\"title\":{\"font\":{\"family\":\"Century Gothic\",\"size\":24},\"text\":\"Empresas com mais contrata\\u00e7\\u00f5es Minha Casa Minha Vida / Casa Verde e Amarela entre 2007 e 2022\",\"x\":0.5,\"xanchor\":\"center\"}},                        {\"responsive\": true}                    ).then(function(){\n",
              "                            \n",
              "var gd = document.getElementById('6a9ad145-7ed7-4020-9d8e-f66b9b4f6bd0');\n",
              "var x = new MutationObserver(function (mutations, observer) {{\n",
              "        var display = window.getComputedStyle(gd).display;\n",
              "        if (!display || display === 'none') {{\n",
              "            console.log([gd, 'removed!']);\n",
              "            Plotly.purge(gd);\n",
              "            observer.disconnect();\n",
              "        }}\n",
              "}});\n",
              "\n",
              "// Listen for the removal of the full notebook cells\n",
              "var notebookContainer = gd.closest('#notebook-container');\n",
              "if (notebookContainer) {{\n",
              "    x.observe(notebookContainer, {childList: true});\n",
              "}}\n",
              "\n",
              "// Listen for the clearing of the current output cell\n",
              "var outputEl = gd.closest('.output');\n",
              "if (outputEl) {{\n",
              "    x.observe(outputEl, {childList: true});\n",
              "}}\n",
              "\n",
              "                        })                };                            </script>        </div>\n",
              "</body>\n",
              "</html>"
            ]
          },
          "metadata": {}
        }
      ]
    },
    {
      "cell_type": "code",
      "source": [
        "# Listando as empresas que mais contratam Unidades Habitacionais, separadas por Estados\n",
        "\n",
        "# Cria uma lista com a UF de cada estado\n",
        "uf=sorted((list(df['txt_uf'].unique())))  #extrai apenas os valores únicos e reordena em ordem alfabética\n",
        "\n",
        "for i in uf:\n",
        "  # Filtrando as empresas por estado\n",
        "  df_emp_estado=df.loc[df['txt_uf']==i,['txt_razao_social_proponente','txt_uf','qtd_uh_contratadas','qtd_uh_entregues']].groupby('txt_razao_social_proponente').sum().sort_values(by=['qtd_uh_contratadas'],ascending=False)\n",
        "  df_emp_estado['Percentual']=round(df_emp_estado['qtd_uh_entregues']/df_emp_estado['qtd_uh_contratadas']*100,2)\n",
        "\n",
        "  # Exibindo o dataframe:\n",
        "  # print(f'\\n\\n\\n========================================================{i}=============================================================\\n')\n",
        "  # display(df_emp_estado.head(20))\n",
        "\n",
        "  df_emp_estado=df_emp_estado.head(20).sort_values(by=['qtd_uh_contratadas'],ascending=True)\n",
        "  fig = px.bar(df_emp_estado, x='qtd_uh_contratadas', y=df_emp_estado.index.values ,orientation='h')\n",
        "  fig.update_layout(xaxis_title=\"UH contratadas\")\n",
        "  fig.update_layout(title={'text':f'Empresas com mais contratações entre 2007 e 2022 - {i}','x':0.5,'xanchor':'center','font':{'family':'Century Gothic','size':24}})\n",
        "\n",
        "  fig.show()\n",
        "\n",
        "  #Gerando um relatório em html:\n",
        "  nome=(f'Top 20 empresas - {i}.html')  #concatena com o nome do estado\n",
        "  rel_emp_estado=df_emp_estado.head(20).to_html() #criando o html\n",
        "  with open(nome, 'w') as f:\n",
        "    f.write(rel_emp_estado)"
      ],
      "metadata": {
        "id": "rsJGEmIodnek"
      },
      "execution_count": null,
      "outputs": []
    },
    {
      "cell_type": "code",
      "source": [
        "# Listando tipologias mais contratadas, agrupadas por estado\n",
        "\n",
        "# Criando o dataframe\n",
        "df_tipo=df[['txt_uf','txt_tipologia','qtd_uh_contratadas']]\n",
        "\n",
        "#dropando as linhas 'nao informada'\n",
        "df_tipo=df_tipo.drop(df_tipo[df_tipo['txt_tipologia']=='Não Informada'].index)\n",
        "\n",
        "# Fazendo o agrupamento\n",
        "df_tipo=df_tipo.groupby(['txt_uf','txt_tipologia']).sum().sort_values(by=['txt_uf'],ascending=True)\n",
        "\n",
        "#Resetando o index para consulta\n",
        "df_tipo=df_tipo.reset_index()\n",
        "\n",
        "#Plotando o gráfico\n",
        "# fig = px.bar(df_tipo, x='txt_uf', y='qtd_uh_contratadas', color='txt_tipologia',barmode='group' ,title='Contratações por tipologia, agrupadas por estado')\n",
        "fig = px.bar(df_tipo, x='txt_uf', y='qtd_uh_contratadas', color='txt_tipologia',barmode='overlay' ,opacity=1,title='Contratações por tipologia, agrupadas por estado')\n",
        "fig.update_layout(title={'x':0.5,'xanchor':'center','font':{'family':'Century Gothic','size':24}})\n",
        "fig.show()"
      ],
      "metadata": {
        "id": "jtIZQz4iqbSJ"
      },
      "execution_count": null,
      "outputs": []
    },
    {
      "cell_type": "code",
      "source": [
        "# Listando as instituições financeiras com mais envolvimento nas contratações, de acordo com o estado\n",
        "# Criando o dataframe\n",
        "df_banco=df[['txt_uf','txt_agente_financeiro','qtd_uh_contratadas']]\n",
        "\n",
        "#dropando as linhas 'nao informada'\n",
        "df_banco=df_banco.drop(df_banco[df_banco['txt_agente_financeiro']=='Não Informado'].index)\n",
        "\n",
        "# Fazendo o agrupamento\n",
        "df_banco=df_banco.groupby(['txt_uf','txt_agente_financeiro']).sum().sort_values(by=['txt_uf'],ascending=True)\n",
        "\n",
        "#Resetando o index para consulta\n",
        "df_banco=df_banco.reset_index()\n",
        "\n",
        "#Plotando o gráfico\n",
        "# fig = px.bar(df_tipo, x='txt_uf', y='qtd_uh_contratadas', color='txt_tipologia',barmode='group' ,title='Contratações por tipologia, agrupadas por estado')\n",
        "fig = px.bar(df_banco, x='txt_uf', y='qtd_uh_contratadas', color='txt_agente_financeiro',barmode='overlay' ,opacity=1,title='Agentes financeiros com maior envolvimento nas contratações, agrupadas por estado')\n",
        "fig.update_layout(title={'x':0.5,'xanchor':'center','font':{'family':'Century Gothic','size':24}})\n",
        "fig.show()"
      ],
      "metadata": {
        "id": "BjjqiMbHJ71y"
      },
      "execution_count": null,
      "outputs": []
    },
    {
      "cell_type": "code",
      "source": [
        "#Utilizando o CEP para extrair valores da latitude e longitude\n",
        "\n",
        "df_cep=pd.DataFrame()\n",
        "\n",
        "df_cep['Cidade']=data['txt_municipio'].apply(lambda x: x.strip()).replace(['ã','á','â','é','í','ô','õ','ú'],['a','a','a','e','i','o','o','u'],regex=True)+', '+data['txt_uf']\n",
        "df_cep['UH contratadas']=data['qtd_uh_contratadas']\n",
        "df_cep['UH entregues']=data['qtd_uh_entregues']\n",
        "df_cep['End comp']=df_cep['Cidade']+', Brasil'\n",
        "\n",
        "# df_cep.reset_index()\n",
        "\n",
        "# >> Dropando para o dataframe ficar menor\n",
        "# df_cep=df_cep.loc[0:500,:]\n",
        "\n",
        "# #Agrupando os valores por cidade\n",
        "df_cep=df_cep.groupby('End comp').sum()\n",
        "\n",
        "# #Resentando o index. Após o agrupamento, a coluna usada como parâmetro se torna o index\n",
        "# #É necessário resetar essa condição, para que a coluna esteja disponível paa consulta.\n",
        "df_cep=df_cep.reset_index()\n",
        "\n",
        "from geopy.extra.rate_limiter import RateLimiter\n",
        "\n",
        "#Criando o locator do Nomoinim\n",
        "locator = Nominatim(user_agent=\"MyGeocoder\")\n",
        "geocode=RateLimiter(locator.geocode,min_delay_seconds=1)\n",
        "df_cep['coordenadas']=df_cep['End comp'].apply(geocode)\n",
        "\n",
        "#Dropando as linhas que não tiveram retorno\n",
        "d_cep=df_cep.dropna(inplace=True)\n",
        "\n",
        "#Cria uma coluna com tuplas que representam as coordenadas x, y, z\n",
        "df_cep['point'] = df_cep['coordenadas'].apply(lambda loc: tuple(loc.point) if loc else None)\n",
        "\n",
        "#Extraindo o primeiro elemento da tupla (que é a coordenada x)\n",
        "df_cep['Latitude']=df_cep['point'].apply(lambda x: x[0])\n",
        "\n",
        "#Extraindo o segundo elemento da tupla (que é a coordenada x)\n",
        "df_cep['Longitude']=df_cep['point'].apply(lambda x: x[1])\n",
        "\n",
        "#Dropando as colunas de 'coordenadas' e 'point'\n",
        "df_cep=df_cep.drop(['coordenadas','point'],axis=1)\n",
        "\n",
        "df_cep.to_excel('Relação Endereço-Coordenadas.xlsx', index=False)"
      ],
      "metadata": {
        "id": "s3aQta-l5W5_"
      },
      "execution_count": null,
      "outputs": []
    },
    {
      "cell_type": "code",
      "source": [
        "# Criando um mapa de visualização dos dados\n",
        "\n",
        "import plotly.graph_objs as go\n",
        "from IPython.display import HTML\n",
        "from google.colab import files\n",
        "\n",
        "# Dados de coordenadas\n",
        "lat = df_cep['Latitude']\n",
        "lon = df_cep['Longitude']\n",
        "intensidade=df_cep['UH contratadas']\n",
        "\n",
        "# Cria um mapa de calor de densidade do Mapbox\n",
        "fig = go.Figure(go.Densitymapbox(lat=lat, lon=lon,z=intensidade,radius=10,zmin=1,zmax=10))\n",
        "# fig = go.Figure(go.Densitymapbox(lat=lat, lon=lon,z=intensidade,radius=10,colorscale='Jet',zmin=0,zmax=10))\n",
        "# zmin e zmax são a escala de intensidade das cores\n",
        "\n",
        "# Define as configurações do layout do Mapbox\n",
        "fig.update_layout(mapbox_style=\"stamen-terrain\", mapbox_center_lon=-50, mapbox_center_lat=-15, mapbox_zoom=3.5)\n",
        "\n",
        "# Gera título para o gráfico\n",
        "fig.update_layout(title={'text':'Contratações Minha Casa Minha Vida / Casa Verde e Amarela entre 2007 e 2022','x':0.5,'xanchor':'center','font':{'family':'Century Gothic','size':24}})\n",
        "\n",
        "# Atualiza as configurações do traço para mostrar a intensidade\n",
        "fig.update_traces(hovertemplate=\"Contratações na cidade: %{z:.2f}<extra></extra>\")\n",
        "\n",
        "# Gera o arquivo HTML com o gráfico << funcionando\n",
        "fig.write_html('mapa.html')\n",
        "\n",
        "# Exibe o gráfico no notebook, em formato html >> funcionando\n",
        "# HTML(filename='mapa.html')\n",
        "\n",
        "#Faz o download do mapa.\n",
        "files.download('mapa.html')"
      ],
      "metadata": {
        "id": "25Xl64u0QC4K",
        "colab": {
          "base_uri": "https://localhost:8080/",
          "height": 17
        },
        "outputId": "01970ada-f0f6-43b4-ebce-c4f20b5a446c"
      },
      "execution_count": 112,
      "outputs": [
        {
          "output_type": "display_data",
          "data": {
            "text/plain": [
              "<IPython.core.display.Javascript object>"
            ],
            "application/javascript": [
              "\n",
              "    async function download(id, filename, size) {\n",
              "      if (!google.colab.kernel.accessAllowed) {\n",
              "        return;\n",
              "      }\n",
              "      const div = document.createElement('div');\n",
              "      const label = document.createElement('label');\n",
              "      label.textContent = `Downloading \"${filename}\": `;\n",
              "      div.appendChild(label);\n",
              "      const progress = document.createElement('progress');\n",
              "      progress.max = size;\n",
              "      div.appendChild(progress);\n",
              "      document.body.appendChild(div);\n",
              "\n",
              "      const buffers = [];\n",
              "      let downloaded = 0;\n",
              "\n",
              "      const channel = await google.colab.kernel.comms.open(id);\n",
              "      // Send a message to notify the kernel that we're ready.\n",
              "      channel.send({})\n",
              "\n",
              "      for await (const message of channel.messages) {\n",
              "        // Send a message to notify the kernel that we're ready.\n",
              "        channel.send({})\n",
              "        if (message.buffers) {\n",
              "          for (const buffer of message.buffers) {\n",
              "            buffers.push(buffer);\n",
              "            downloaded += buffer.byteLength;\n",
              "            progress.value = downloaded;\n",
              "          }\n",
              "        }\n",
              "      }\n",
              "      const blob = new Blob(buffers, {type: 'application/binary'});\n",
              "      const a = document.createElement('a');\n",
              "      a.href = window.URL.createObjectURL(blob);\n",
              "      a.download = filename;\n",
              "      div.appendChild(a);\n",
              "      a.click();\n",
              "      div.remove();\n",
              "    }\n",
              "  "
            ]
          },
          "metadata": {}
        },
        {
          "output_type": "display_data",
          "data": {
            "text/plain": [
              "<IPython.core.display.Javascript object>"
            ],
            "application/javascript": [
              "download(\"download_c44f756d-b383-400a-b454-b4aa61b47d10\", \"mapa.html\", 3732191)"
            ]
          },
          "metadata": {}
        }
      ]
    }
  ]
}