{
  "nbformat": 4,
  "nbformat_minor": 0,
  "metadata": {
    "colab": {
      "provenance": []
    },
    "kernelspec": {
      "name": "python3",
      "display_name": "Python 3"
    },
    "language_info": {
      "name": "python"
    }
  },
  "cells": [
    {
      "cell_type": "markdown",
      "source": [
        "#1) Introdução"
      ],
      "metadata": {
        "id": "YO0m0ThWjUZ9"
      }
    },
    {
      "cell_type": "markdown",
      "source": [
        "Descrição: Este projeto visa fazer uma análise descritiva de dados de contratação do programa Minha Casa Minha Vida e Casa verde e Amarela.\n",
        "São exploradas informações como:\n",
        "- Estados com maiores contratações\n",
        "- Empresas com maiores contratações, em âmbito nacional e por estado\n",
        "- Tipologias de unidade habitacionais mais contratadas\n",
        "- Entidades financeiras com maior envolvimento nas contratações\n",
        "\n",
        "\n",
        "Ao final, é gerado um mapa de intensidade interativo visando facilitar a visualização das regiões do Brasil e sua intensidade de contratações.\n",
        "\n",
        "\n",
        "Fonte dos dados (dados + dicionário dos dados): https://dados.gov.br/dados/conjuntos-dados/dados-de-programas-habitacionais---sistema-de-habitao---sishab"
      ],
      "metadata": {
        "id": "DVJBPpHBLWfe"
      }
    },
    {
      "cell_type": "markdown",
      "source": [
        "#2) Tratamento dos dados"
      ],
      "metadata": {
        "id": "6-w2HcUNkV-8"
      }
    },
    {
      "cell_type": "code",
      "source": [
        "!pip install geopy"
      ],
      "metadata": {
        "id": "ke3Nmooe4GMw",
        "colab": {
          "base_uri": "https://localhost:8080/"
        },
        "outputId": "41ca1232-ab09-4a7d-f44e-dfed85873efe"
      },
      "execution_count": 1,
      "outputs": [
        {
          "output_type": "stream",
          "name": "stdout",
          "text": [
            "Looking in indexes: https://pypi.org/simple, https://us-python.pkg.dev/colab-wheels/public/simple/\n",
            "Requirement already satisfied: geopy in /usr/local/lib/python3.9/dist-packages (2.3.0)\n",
            "Requirement already satisfied: geographiclib<3,>=1.52 in /usr/local/lib/python3.9/dist-packages (from geopy) (2.0)\n"
          ]
        }
      ]
    },
    {
      "cell_type": "code",
      "execution_count": 64,
      "metadata": {
        "id": "xUSnzpWVkvyH"
      },
      "outputs": [],
      "source": [
        "# Importando as bibliotecas\n",
        "\n",
        "import pandas as pd\n",
        "import numpy as np\n",
        "import plotly.express as px\n",
        "import plotly.graph_objects as go\n",
        "\n",
        "# from pycep_correios import get_address_from_cep, WebService\n",
        "from geopy.geocoders import Nominatim\n",
        "\n",
        "%matplotlib inline"
      ]
    },
    {
      "cell_type": "code",
      "source": [
        "# Ocultando os avisos de output do Colab\n",
        "import warnings\n",
        "warnings.filterwarnings('ignore')"
      ],
      "metadata": {
        "id": "FMUhbnYytyqQ"
      },
      "execution_count": 3,
      "outputs": []
    },
    {
      "cell_type": "code",
      "source": [
        "# Lendo o dataset\n",
        "\n",
        "data=pd.read_csv('/content/drive/MyDrive/Colab Notebooks/Projetos pessoais/02. Análise exploratória de datasets/Programa Casa verde e Amarela/_contratacoes_pcmv_pcva.csv',encoding='latin-1',sep='|')"
      ],
      "metadata": {
        "id": "daoZUEIzlA3l"
      },
      "execution_count": 4,
      "outputs": []
    },
    {
      "cell_type": "code",
      "source": [
        "# Criando backup do dataset / criando o dataframe\n",
        "\n",
        "df=data.copy()"
      ],
      "metadata": {
        "id": "gsSJTwf0lpPZ"
      },
      "execution_count": 5,
      "outputs": []
    },
    {
      "cell_type": "code",
      "source": [
        "#Pré visualização do dataset\n",
        "\n",
        "df.head()"
      ],
      "metadata": {
        "id": "KKxeNCJ_lmFa"
      },
      "execution_count": null,
      "outputs": []
    },
    {
      "cell_type": "code",
      "source": [
        "#Visualizando informações do dataframe\n",
        "\n",
        "df.info()"
      ],
      "metadata": {
        "id": "wmXHmFrRlmKA"
      },
      "execution_count": null,
      "outputs": []
    },
    {
      "cell_type": "code",
      "source": [
        "#Convertendo alguns valores em números\n",
        "\n",
        "df[['vlr_operacao','vlr_contrapartida','vlr_liberado']]=df[['vlr_operacao','vlr_contrapartida','vlr_liberado']].replace(',','.',regex=True).astype(float)"
      ],
      "metadata": {
        "id": "cV5ZCOJVlTZ6"
      },
      "execution_count": 9,
      "outputs": []
    },
    {
      "cell_type": "code",
      "source": [
        "# Visualização de dados missing no dataframe\n",
        "\n",
        "df.isnull().sum()"
      ],
      "metadata": {
        "id": "abYToz3F7jeF"
      },
      "execution_count": null,
      "outputs": []
    },
    {
      "cell_type": "code",
      "source": [
        "# Visualização de dados únicos no dataframe\n",
        "\n",
        "df.nunique()"
      ],
      "metadata": {
        "id": "2S2y5plh2NI2"
      },
      "execution_count": null,
      "outputs": []
    },
    {
      "cell_type": "code",
      "source": [
        "# Excluindo algumas colunas que não serão utilizadas\n",
        "\n",
        "df=df.drop(['dte_assinatura_contrato','txt_nome_do_empreendimento','txt_apf_cod_empreendimento','txt_cnpj_proponente','txt_endereco','txt_cep'],axis=1)"
      ],
      "metadata": {
        "id": "ZrCpoD9y1cHF"
      },
      "execution_count": 12,
      "outputs": []
    },
    {
      "cell_type": "code",
      "source": [
        "# Ajustando a coluna 'num_ano_assinatura_contrato'\n",
        "\n",
        "df['num_ano_assinatura_contrato']=df['num_ano_assinatura_contrato'].replace(',00','',regex=True).astype(int)"
      ],
      "metadata": {
        "id": "c1bdR30CMDta"
      },
      "execution_count": 13,
      "outputs": []
    },
    {
      "cell_type": "code",
      "source": [
        "# Convertendo os valrres da coluna 'prc_obra' para numéricos\n",
        "df['prc_obra']=df['prc_obra'].replace(',','.',regex=True).astype(float)"
      ],
      "metadata": {
        "id": "6HuxMioUTllz"
      },
      "execution_count": 14,
      "outputs": []
    },
    {
      "cell_type": "code",
      "source": [
        "# Avaliando os valores únicos das colunas txt_origem_contrato, txt_programa, txt_faixa_grupo_renda\n",
        "\n",
        "for i in df[['txt_origem_contrato', 'txt_programa', 'txt_faixa_grupo_renda']]:\n",
        "  print(list(df[i].unique()))"
      ],
      "metadata": {
        "id": "BPyM1H7Q2kLU"
      },
      "execution_count": null,
      "outputs": []
    },
    {
      "cell_type": "code",
      "source": [
        "# Analisando as entradas da coluna \n",
        "# Esta coluna será excluída, pois já existe uma coluna informando qual o programa de financiamento\n",
        "\n",
        "df['txt_faixa_grupo_renda'].unique()\n",
        "df=df.drop('txt_faixa_grupo_renda',axis=1)"
      ],
      "metadata": {
        "id": "2IKWoewlNzHC"
      },
      "execution_count": 16,
      "outputs": []
    },
    {
      "cell_type": "code",
      "source": [
        "# Quantidade de uniades entregues pelo Programa Minha Casa Minha Vida ( coma condição de opercentual de entrega ser 100%)\n",
        "df.loc[(df['txt_programa']=='PMCMV')&(df['txt_situacao_obra']=='Obras Entregues') & (df['prc_obra']==100) ,'qtd_uh_entregues'].sum()"
      ],
      "metadata": {
        "id": "WZyyrJHNPSjJ"
      },
      "execution_count": null,
      "outputs": []
    },
    {
      "cell_type": "markdown",
      "source": [
        "#3) Análise descritva"
      ],
      "metadata": {
        "id": "pAGc1OYYLOeJ"
      }
    },
    {
      "cell_type": "code",
      "source": [
        "# Agrupando as informações por estado e mostrando pelo total de unidades contratadas e entregues\n",
        "#Criando também uma coluna para mostrar o percentual de unidades entregues em relação às contratadas\n",
        "\n",
        "df_uh=df[['txt_uf','qtd_uh_contratadas','qtd_uh_entregues']].groupby('txt_uf').sum().sort_values(by=['qtd_uh_contratadas'],ascending=False)\n",
        "df_uh['Percentual']=round(df_uh['qtd_uh_entregues']/df_uh['qtd_uh_contratadas']*100,2)\n",
        "df_uh\n",
        "\n",
        "\n",
        "# Exibindo um gráfico\n",
        "# df_uh=df_uh.sort_values(by=['qtd_uh_contratadas'],ascending=True)\n",
        "# fig = px.bar(df_uh, x='qtd_uh_contratadas', y=df_uh.index.values ,orientation='h')\n",
        "# fig.update_layout(xaxis_title=\"UH contratadas\")\n",
        "# fig.update_layout(title={'text':'Estados com mais contratações Minha Casa Minha Vida / Casa Verde e Amarela entre 2007 a 2022','x':0.5,'xanchor':'center','font':{'family':'Century Gothic','size':24}})\n",
        "# fig.show()"
      ],
      "metadata": {
        "id": "oke_lIbmVUOV"
      },
      "execution_count": null,
      "outputs": []
    },
    {
      "cell_type": "code",
      "source": [
        "# Listando as empresas que mais contratam Unidades Habitacionais em âmbito nacional\n",
        "df_empresas=df[['txt_razao_social_proponente','txt_uf','qtd_uh_contratadas']].groupby('txt_razao_social_proponente').sum().sort_values(by=['qtd_uh_contratadas'],ascending=False)\n",
        "\n",
        "#Gerando um relatório em html\n",
        "rel_empresas=df_empresas.head(20).to_html() #criando o html\n",
        "with open('Relatório de empresas.html', 'w') as f:\n",
        "    f.write(rel_empresas)\n",
        "\n",
        "df_empresas"
      ],
      "metadata": {
        "id": "qAWkpkaqZRIK"
      },
      "execution_count": null,
      "outputs": []
    },
    {
      "cell_type": "code",
      "source": [
        "#Criando um gráfico para visualização das empresas que mais contratam\n",
        "df_empresas=df_empresas.head(20).sort_values(by=['qtd_uh_contratadas'],ascending=True)\n",
        "fig = px.bar(df_empresas, x='qtd_uh_contratadas', y=df_empresas.index.values ,orientation='h')\n",
        "fig.update_layout(xaxis_title=\"UH contratadas\")\n",
        "fig.update_layout(title={'text':'Empresas com mais contratações Minha Casa Minha Vida / Casa Verde e Amarela entre 2007 e 2022','x':0.5,'xanchor':'center','font':{'family':'Century Gothic','size':24}})\n",
        "\n",
        "fig.show()\n"
      ],
      "metadata": {
        "id": "kv3vhdwBlHjb"
      },
      "execution_count": null,
      "outputs": []
    },
    {
      "cell_type": "code",
      "source": [
        "# Exibindo o ranking das empresas com mais contratações\n",
        "df_empresas=df_empresas.head(20).sort_values(by=['qtd_uh_contratadas'],ascending=True)\n",
        "fig = px.bar(df_empresas, x='qtd_uh_contratadas', y=df_empresas.index.values ,orientation='h')\n",
        "fig.update_layout(xaxis_title=\"UH contratadas\")\n",
        "fig.update_layout(title={'text':'Empresas com mais contratações Minha Casa Minha Vida / Casa Verde e Amarela entre 2007 a 2022','x':0.5,'xanchor':'center','font':{'family':'Century Gothic','size':24}})\n",
        "\n",
        "fig.show()"
      ],
      "metadata": {
        "id": "av9MpPyUJj_L"
      },
      "execution_count": null,
      "outputs": []
    },
    {
      "cell_type": "code",
      "source": [
        "# Listando as empresas que mais contratam Unidades Habitacionais, separadas por Estados\n",
        "\n",
        "# Cria uma lista com a UF de cada estado\n",
        "uf=sorted((list(df['txt_uf'].unique())))  #extrai apenas os valores únicos e reordena em ordem alfabética\n",
        "\n",
        "for i in uf:\n",
        "  # Filtrando as empresas por estado\n",
        "  df_emp_estado=df.loc[df['txt_uf']==i,['txt_razao_social_proponente','txt_uf','qtd_uh_contratadas','qtd_uh_entregues']].groupby('txt_razao_social_proponente').sum().sort_values(by=['qtd_uh_contratadas'],ascending=False)\n",
        "  df_emp_estado['Percentual']=round(df_emp_estado['qtd_uh_entregues']/df_emp_estado['qtd_uh_contratadas']*100,2)\n",
        "\n",
        "  # Exibindo o dataframe:\n",
        "  # print(f'\\n\\n\\n========================================================{i}=============================================================\\n')\n",
        "  # display(df_emp_estado.head(20))\n",
        "\n",
        "  df_emp_estado=df_emp_estado.head(20).sort_values(by=['qtd_uh_contratadas'],ascending=True)\n",
        "  fig = px.bar(df_emp_estado, x='qtd_uh_contratadas', y=df_emp_estado.index.values ,orientation='h')\n",
        "  fig.update_layout(xaxis_title=\"UH contratadas\")\n",
        "  fig.update_layout(title={'text':f'Empresas com mais contratações entre 2019 e 2023 - {i}','x':0.5,'xanchor':'center','font':{'family':'Century Gothic','size':24}})\n",
        "\n",
        "  fig.show()\n",
        "\n",
        "  #Gerando um relatório em html:\n",
        "  nome=(f'Top 20 empresas - {i}.html')  #concatena com o nome do estado\n",
        "  rel_emp_estado=df_emp_estado.head(20).to_html() #criando o html\n",
        "  with open(nome, 'w') as f:\n",
        "    f.write(rel_emp_estado)"
      ],
      "metadata": {
        "id": "rsJGEmIodnek"
      },
      "execution_count": null,
      "outputs": []
    },
    {
      "cell_type": "code",
      "source": [
        "# Listando tipologias mais contratadas, agrupadas por estado\n",
        "\n",
        "# Criando o dataframe\n",
        "df_tipo=df[['txt_uf','txt_tipologia','qtd_uh_contratadas']]\n",
        "\n",
        "#dropando as linhas 'nao informada'\n",
        "df_tipo=df_tipo.drop(df_tipo[df_tipo['txt_tipologia']=='Não Informada'].index)\n",
        "\n",
        "# Fazendo o agrupamento\n",
        "df_tipo=df_tipo.groupby(['txt_uf','txt_tipologia']).sum().sort_values(by=['txt_uf'],ascending=True)\n",
        "\n",
        "#Resetando o index para consulta\n",
        "df_tipo=df_tipo.reset_index()\n",
        "\n",
        "#Plotando o gráfico\n",
        "# fig = px.bar(df_tipo, x='txt_uf', y='qtd_uh_contratadas', color='txt_tipologia',barmode='group' ,title='Contratações por tipologia, agrupadas por estado')\n",
        "fig = px.bar(df_tipo, x='txt_uf', y='qtd_uh_contratadas', color='txt_tipologia',barmode='overlay' ,opacity=1,title='Contratações por tipologia, agrupadas por estado')\n",
        "fig.update_layout(title={'x':0.5,'xanchor':'center','font':{'family':'Century Gothic','size':24}})\n",
        "fig.show()"
      ],
      "metadata": {
        "id": "jtIZQz4iqbSJ"
      },
      "execution_count": null,
      "outputs": []
    },
    {
      "cell_type": "code",
      "source": [
        "# Listando as instituições financeiras com mais envolvimento nas contratações, de acordo com o estado\n",
        "# Criando o dataframe\n",
        "df_banco=df[['txt_uf','txt_agente_financeiro','qtd_uh_contratadas']]\n",
        "\n",
        "#dropando as linhas 'nao informada'\n",
        "df_banco=df_banco.drop(df_banco[df_banco['txt_agente_financeiro']=='Não Informado'].index)\n",
        "\n",
        "# Fazendo o agrupamento\n",
        "df_banco=df_banco.groupby(['txt_uf','txt_agente_financeiro']).sum().sort_values(by=['txt_uf'],ascending=True)\n",
        "\n",
        "#Resetando o index para consulta\n",
        "df_banco=df_banco.reset_index()\n",
        "\n",
        "#Plotando o gráfico\n",
        "# fig = px.bar(df_tipo, x='txt_uf', y='qtd_uh_contratadas', color='txt_tipologia',barmode='group' ,title='Contratações por tipologia, agrupadas por estado')\n",
        "fig = px.bar(df_banco, x='txt_uf', y='qtd_uh_contratadas', color='txt_agente_financeiro',barmode='overlay' ,opacity=1,title='Agentes financeiros com maior envolvimento nas contratações, agrupadas por estado')\n",
        "fig.update_layout(title={'x':0.5,'xanchor':'center','font':{'family':'Century Gothic','size':24}})\n",
        "fig.show()"
      ],
      "metadata": {
        "id": "BjjqiMbHJ71y"
      },
      "execution_count": null,
      "outputs": []
    },
    {
      "cell_type": "code",
      "source": [
        "#Utilizando o CEP para extrair valores da latitude e longitude\n",
        "\n",
        "df_cep=pd.DataFrame()\n",
        "\n",
        "df_cep['Cidade']=data['txt_municipio'].apply(lambda x: x.strip()).replace(['ã','á','â','é','í','ô','õ','ú'],['a','a','a','e','i','o','o','u'],regex=True)+', '+data['txt_uf']\n",
        "df_cep['UH contratadas']=data['qtd_uh_contratadas']\n",
        "df_cep['UH entregues']=data['qtd_uh_entregues']\n",
        "df_cep['End comp']=df_cep['Cidade']+', Brasil'\n",
        "\n",
        "# df_cep.reset_index()\n",
        "\n",
        "# >> Dropando para o dataframe ficar menor\n",
        "# df_cep=df_cep.loc[0:500,:]\n",
        "\n",
        "# #Agrupando os valores por cidade\n",
        "df_cep=df_cep.groupby('End comp').sum()\n",
        "\n",
        "# #Resentando o index. Após o agrupamento, a coluna usada como parâmetro se torna o index\n",
        "# #É necessário resetar essa condição, para que a coluna esteja disponível paa consulta.\n",
        "df_cep=df_cep.reset_index()\n",
        "\n",
        "from geopy.extra.rate_limiter import RateLimiter\n",
        "\n",
        "#Criando o locator do Nomoinim\n",
        "locator = Nominatim(user_agent=\"MyGeocoder\")\n",
        "geocode=RateLimiter(locator.geocode,min_delay_seconds=1)\n",
        "df_cep['coordenadas']=df_cep['End comp'].apply(geocode)\n",
        "\n",
        "#Dropando as linhas que não tiveram retorno\n",
        "d_cep=df_cep.dropna(inplace=True)\n",
        "\n",
        "#Cria uma coluna com tuplas que representam as coordenadas x, y, z\n",
        "df_cep['point'] = df_cep['coordenadas'].apply(lambda loc: tuple(loc.point) if loc else None)\n",
        "\n",
        "#Extraindo o primeiro elemento da tupla (que é a coordenada x)\n",
        "df_cep['Latitude']=df_cep['point'].apply(lambda x: x[0])\n",
        "\n",
        "#Extraindo o segundo elemento da tupla (que é a coordenada x)\n",
        "df_cep['Longitude']=df_cep['point'].apply(lambda x: x[1])\n",
        "\n",
        "#Dropando as colunas de 'coordenadas' e 'point'\n",
        "df_cep=df_cep.drop(['coordenadas','point'],axis=1)\n",
        "\n",
        "df_cep.to_excel('Relação Endereço-Coordenadas.xlsx', index=False)"
      ],
      "metadata": {
        "id": "s3aQta-l5W5_"
      },
      "execution_count": null,
      "outputs": []
    },
    {
      "cell_type": "code",
      "source": [
        "# Criando um mapa de visualização dos dados\n",
        "\n",
        "import plotly.graph_objs as go\n",
        "from IPython.display import HTML\n",
        "from google.colab import files\n",
        "\n",
        "# Dados de coordenadas\n",
        "lat = df_cep['Latitude']\n",
        "lon = df_cep['Longitude']\n",
        "intensidade=df_cep['UH contratadas']\n",
        "\n",
        "# Cria um mapa de calor de densidade do Mapbox\n",
        "# fig = go.Figure(go.Densitymapbox(lat=lat, lon=lon,z=intensidade,radius=10,zmin=1,zmax=10))\n",
        "fig = go.Figure(go.Densitymapbox(lat=lat, lon=lon,z=intensidade,radius=10))\n",
        "# fig = go.Figure(go.Densitymapbox(lat=lat, lon=lon,z=intensidade,radius=10,colorscale='Jet',zmin=0,zmax=10))\n",
        "# zmin e zmax são a escala de intensidade das cores\n",
        "\n",
        "# Define as configurações do layout do Mapbox\n",
        "fig.update_layout(mapbox_style=\"stamen-terrain\", mapbox_center_lon=-50, mapbox_center_lat=-15, mapbox_zoom=3.5)\n",
        "\n",
        "# Gera título para o gráfico\n",
        "fig.update_layout(title={'text':'Contratações Minha Casa Minha Vida / Casa Verde e Amarela entre 2007 e 2022','x':0.5,'xanchor':'center','font':{'family':'Century Gothic','size':24}})\n",
        "\n",
        "# Atualiza as configurações do traço para mostrar a intensidade\n",
        "fig.update_traces(hovertemplate=\"Contratações na cidade: %{z:.2f}<extra></extra>\")\n",
        "\n",
        "# Gera o arquivo HTML com o gráfico << funcionando\n",
        "fig.write_html('mapa.html')\n",
        "\n",
        "# Exibe o gráfico no notebook, em formato html >> funcionando\n",
        "# HTML(filename='mapa.html')\n",
        "\n",
        "#Faz o download do mapa.\n",
        "files.download('mapa.html')"
      ],
      "metadata": {
        "id": "25Xl64u0QC4K",
        "colab": {
          "base_uri": "https://localhost:8080/",
          "height": 17
        },
        "outputId": "7882dcfe-da1c-415d-edbd-c9b905ca539f"
      },
      "execution_count": 89,
      "outputs": [
        {
          "output_type": "display_data",
          "data": {
            "text/plain": [
              "<IPython.core.display.Javascript object>"
            ],
            "application/javascript": [
              "\n",
              "    async function download(id, filename, size) {\n",
              "      if (!google.colab.kernel.accessAllowed) {\n",
              "        return;\n",
              "      }\n",
              "      const div = document.createElement('div');\n",
              "      const label = document.createElement('label');\n",
              "      label.textContent = `Downloading \"${filename}\": `;\n",
              "      div.appendChild(label);\n",
              "      const progress = document.createElement('progress');\n",
              "      progress.max = size;\n",
              "      div.appendChild(progress);\n",
              "      document.body.appendChild(div);\n",
              "\n",
              "      const buffers = [];\n",
              "      let downloaded = 0;\n",
              "\n",
              "      const channel = await google.colab.kernel.comms.open(id);\n",
              "      // Send a message to notify the kernel that we're ready.\n",
              "      channel.send({})\n",
              "\n",
              "      for await (const message of channel.messages) {\n",
              "        // Send a message to notify the kernel that we're ready.\n",
              "        channel.send({})\n",
              "        if (message.buffers) {\n",
              "          for (const buffer of message.buffers) {\n",
              "            buffers.push(buffer);\n",
              "            downloaded += buffer.byteLength;\n",
              "            progress.value = downloaded;\n",
              "          }\n",
              "        }\n",
              "      }\n",
              "      const blob = new Blob(buffers, {type: 'application/binary'});\n",
              "      const a = document.createElement('a');\n",
              "      a.href = window.URL.createObjectURL(blob);\n",
              "      a.download = filename;\n",
              "      div.appendChild(a);\n",
              "      a.click();\n",
              "      div.remove();\n",
              "    }\n",
              "  "
            ]
          },
          "metadata": {}
        },
        {
          "output_type": "display_data",
          "data": {
            "text/plain": [
              "<IPython.core.display.Javascript object>"
            ],
            "application/javascript": [
              "download(\"download_6cecd942-ba1b-4022-b8f8-bee08ea59075\", \"mapa.html\", 3732172)"
            ]
          },
          "metadata": {}
        }
      ]
    }
  ]
}